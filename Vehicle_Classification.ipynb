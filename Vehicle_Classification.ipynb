{
  "nbformat": 4,
  "nbformat_minor": 0,
  "metadata": {
    "colab": {
      "name": "Vehicle_Classification.ipynb",
      "provenance": [],
      "authorship_tag": "ABX9TyOo5svoSvV8g/OAvTxAuobS",
      "include_colab_link": true
    },
    "kernelspec": {
      "name": "python3",
      "display_name": "Python 3"
    }
  },
  "cells": [
    {
      "cell_type": "markdown",
      "metadata": {
        "id": "view-in-github",
        "colab_type": "text"
      },
      "source": [
        "<a href=\"https://colab.research.google.com/github/andypeng93/Vehicle_Classification/blob/main/Vehicle_Classification.ipynb\" target=\"_parent\"><img src=\"https://colab.research.google.com/assets/colab-badge.svg\" alt=\"Open In Colab\"/></a>"
      ]
    },
    {
      "cell_type": "code",
      "metadata": {
        "colab": {
          "base_uri": "https://localhost:8080/"
        },
        "id": "afqL0vMDPlJK",
        "outputId": "03d1c653-b34e-475d-b99a-f2a990c6b63f"
      },
      "source": [
        "from google.colab import drive\r\n",
        "drive.mount('/content/gdrive')"
      ],
      "execution_count": 1,
      "outputs": [
        {
          "output_type": "stream",
          "text": [
            "Mounted at /content/gdrive\n"
          ],
          "name": "stdout"
        }
      ]
    },
    {
      "cell_type": "code",
      "metadata": {
        "id": "jwG2opI6RVhs"
      },
      "source": [
        "import os\r\n",
        "os.environ['KAGGLE_CONFIG_DIR'] = \"/content/gdrive/My Drive/Flatiron School/Vehicle Project\"\r\n",
        "# /content/gdrive/My Drive/Kaggle is the path where kaggle.json is present in the Google Drive"
      ],
      "execution_count": 4,
      "outputs": []
    },
    {
      "cell_type": "code",
      "metadata": {
        "colab": {
          "base_uri": "https://localhost:8080/"
        },
        "id": "yJ8SFl4BR2L9",
        "outputId": "f1c0077f-c612-4378-d4a9-9c9627a5b363"
      },
      "source": [
        "#changing the working directory\r\n",
        "%cd /content/gdrive/My Drive/Flatiron School/Vehicle Project\r\n",
        "#Check the present working directory using pwd command"
      ],
      "execution_count": 5,
      "outputs": [
        {
          "output_type": "stream",
          "text": [
            "/content/gdrive/My Drive/Flatiron School/Vehicle Project\n"
          ],
          "name": "stdout"
        }
      ]
    },
    {
      "cell_type": "code",
      "metadata": {
        "colab": {
          "base_uri": "https://localhost:8080/"
        },
        "id": "Xiegls3eR8ZF",
        "outputId": "2106a653-350b-4fbc-b28c-708aba181aee"
      },
      "source": [
        "!kaggle datasets download -d ryanholbrook/car-or-truck"
      ],
      "execution_count": 6,
      "outputs": [
        {
          "output_type": "stream",
          "text": [
            "Downloading car-or-truck.zip to /content/gdrive/My Drive/Flatiron School/Vehicle Project\n",
            " 94% 73.0M/77.7M [00:00<00:00, 103MB/s] \n",
            "100% 77.7M/77.7M [00:00<00:00, 106MB/s]\n"
          ],
          "name": "stdout"
        }
      ]
    },
    {
      "cell_type": "code",
      "metadata": {
        "id": "FlQ21OPxSPHt"
      },
      "source": [
        "#unzipping the zip files and deleting the zip files\r\n",
        "!unzip \\*.zip  && rm *.zip"
      ],
      "execution_count": null,
      "outputs": []
    },
    {
      "cell_type": "code",
      "metadata": {
        "id": "PzWmXpwtSVYF"
      },
      "source": [
        ""
      ],
      "execution_count": null,
      "outputs": []
    }
  ]
}